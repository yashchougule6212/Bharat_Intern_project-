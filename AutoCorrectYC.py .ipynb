{
 "cells": [
  {
   "cell_type": "code",
   "execution_count": 1,
   "id": "e8793233",
   "metadata": {},
   "outputs": [],
   "source": [
    "import re  # regular expression\n",
    "from collections import Counter\n",
    "import numpy as np\n",
    "import pandas as pd"
   ]
  },
  {
   "cell_type": "code",
   "execution_count": 3,
   "id": "caa51edc",
   "metadata": {},
   "outputs": [],
   "source": [
    "w = [] #words\n",
    "with open('sample.txt','r',encoding=\"utf8\") as f:\n",
    "    file_name_data = f.read()\n",
    "    file_name_data = file_name_data.lower()\n",
    "    w = re.findall('\\w+', file_name_data)\n"
   ]
  },
  {
   "cell_type": "code",
   "execution_count": 4,
   "id": "9b404fc8",
   "metadata": {},
   "outputs": [
    {
     "name": "stdout",
     "output_type": "stream",
     "text": [
      "The first 10 words in our dictionary are: \n",
      "['a', 'ability', 'able', 'about', 'above', 'accept', 'according', 'account', 'across', 'act']\n",
      "The dictionary has 1001 words \n"
     ]
    }
   ],
   "source": [
    "v = set(w) #vocabulary\n",
    "print(f\"The first 10 words in our dictionary are: \\n{w[0:10]}\")\n",
    "print(f\"The dictionary has {len(v)} words \")\n"
   ]
  },
  {
   "cell_type": "code",
   "execution_count": 5,
   "id": "62ba3f0a",
   "metadata": {},
   "outputs": [],
   "source": [
    "def get_count(words):\n",
    "    word_count = {}\n",
    "    for word in words:\n",
    "        if word in word_count:\n",
    "            word_count[word] += 1\n",
    "        else:\n",
    "            word_count[word] = 1\n",
    "    return word_count"
   ]
  },
  {
   "cell_type": "code",
   "execution_count": 6,
   "id": "d4b03be0",
   "metadata": {},
   "outputs": [
    {
     "name": "stdout",
     "output_type": "stream",
     "text": [
      "The dictionary has  1001 key values pairs\n"
     ]
    }
   ],
   "source": [
    "word_count = get_count(w)\n",
    "print(f\"The dictionary has  {len(word_count)} key values pairs\")\n"
   ]
  },
  {
   "cell_type": "code",
   "execution_count": 7,
   "id": "518dad84",
   "metadata": {},
   "outputs": [],
   "source": [
    "def get_probs(word_count_dict):\n",
    "    probs = {}\n",
    "    m = sum(word_count_dict.values())\n",
    "    for key in word_count_dict.keys():\n",
    "        probs[key] = word_count_dict[key] / m\n",
    "    return probs"
   ]
  },
  {
   "cell_type": "code",
   "execution_count": 8,
   "id": "69de0032",
   "metadata": {},
   "outputs": [],
   "source": [
    "def DeleteLetter(word):\n",
    "    delete_list = []\n",
    "    split_list = []\n",
    "    for i in range(len(word)):\n",
    "        split_list.append((word[0:i], word[i:]))\n",
    "    for a, b in split_list:\n",
    "        delete_list.append(a + b[1:])\n",
    "    return delete_list"
   ]
  },
  {
   "cell_type": "code",
   "execution_count": 9,
   "id": "3cea06a6",
   "metadata": {},
   "outputs": [],
   "source": [
    "delete_word_l = DeleteLetter(word=\"cans\")"
   ]
  },
  {
   "cell_type": "code",
   "execution_count": 10,
   "id": "3aab001f",
   "metadata": {},
   "outputs": [],
   "source": [
    "def SwitchLetter(word):\n",
    "    split_l = []\n",
    "    switch_l = []\n",
    "    for i in range(len(word)):\n",
    "        split_l.append((word[0:i], word[i:]))\n",
    "    switch_l = [a + b[1] + b[0] + b[2:] for a, b in split_l if len(b) >= 2]\n",
    "    return switch_l"
   ]
  },
  {
   "cell_type": "code",
   "execution_count": 11,
   "id": "27534eab",
   "metadata": {},
   "outputs": [],
   "source": [
    "switch_word_l = SwitchLetter(word=\"eta\")\n"
   ]
  },
  {
   "cell_type": "code",
   "execution_count": 12,
   "id": "5af5384e",
   "metadata": {},
   "outputs": [],
   "source": [
    "def replace_letter(word):\n",
    "    split_l = []\n",
    "    replace_list = []\n",
    "    for i in range(len(word)):\n",
    "        split_l.append((word[0:i], word[i:]))\n",
    "    alphabets = 'abcdefghijklmnopqrstuvwxyz'\n",
    "    replace_list = [a + l + (b[1:] if len(b) > 1 else '') for a, b in split_l if b for l in alphabets]\n",
    "    return replace_list\n"
   ]
  },
  {
   "cell_type": "code",
   "execution_count": 13,
   "id": "000c63de",
   "metadata": {},
   "outputs": [],
   "source": [
    "replace_l = replace_letter(word='can')\n"
   ]
  },
  {
   "cell_type": "code",
   "execution_count": 14,
   "id": "2adda0af",
   "metadata": {},
   "outputs": [],
   "source": [
    "def insert_letter(word):\n",
    "    split_l = []\n",
    "    insert_list = []\n",
    "    for i in range(len(word) + 1):\n",
    "        split_l.append((word[0:i], word[i:]))\n",
    "    letters = 'abcdefghijklmnopqrstuvwxyz'\n",
    "    insert_list = [a + l + b for a, b in split_l for l in letters]\n",
    "    # print(split_l)\n",
    "    return insert_list\n"
   ]
  },
  {
   "cell_type": "code",
   "execution_count": 15,
   "id": "0adc6628",
   "metadata": {},
   "outputs": [],
   "source": [
    "def edit_one_letter(word, allow_switches=True):\n",
    "    edit_set1 = set()\n",
    "    edit_set1.update(DeleteLetter(word))\n",
    "    if allow_switches:\n",
    "        edit_set1.update(SwitchLetter(word))\n",
    "    edit_set1.update(replace_letter(word))\n",
    "    edit_set1.update(insert_letter(word))\n",
    "    return edit_set1"
   ]
  },
  {
   "cell_type": "code",
   "execution_count": 16,
   "id": "16a12e46",
   "metadata": {},
   "outputs": [],
   "source": [
    "def edit_two_letters(word, allow_switches=True):\n",
    "    edit_set2 = set()\n",
    "    edit_one = edit_one_letter(word, allow_switches=allow_switches)\n",
    "    for w in edit_one:\n",
    "        if w:\n",
    "            edit_two = edit_one_letter(w, allow_switches=allow_switches)\n",
    "            edit_set2.update(edit_two)\n",
    "    return edit_set2"
   ]
  },
  {
   "cell_type": "code",
   "execution_count": 17,
   "id": "80cf7877",
   "metadata": {},
   "outputs": [],
   "source": [
    "def get_corrections(word, probs, vocab, n=2):\n",
    "    suggested_word = []\n",
    "    best_suggestion = []\n",
    "    suggested_word = list(\n",
    "        (word in vocab and word) or edit_one_letter(word).intersection(vocab) or edit_two_letters(word).intersection(\n",
    "            vocab))\n",
    "    best_suggestion = [[s, probs[s]] for s in list(reversed(suggested_word))]\n",
    "    return best_suggestion"
   ]
  },
  {
   "cell_type": "code",
   "execution_count": 20,
   "id": "c3807ed8",
   "metadata": {},
   "outputs": [
    {
     "name": "stdout",
     "output_type": "stream",
     "text": [
      "Enter any word:had\n",
      "word 0: hand, probability 0.000999\n",
      "word 1: bad, probability 0.000999\n",
      "word 2: hard, probability 0.000999\n",
      "word 3: head, probability 0.000999\n"
     ]
    }
   ],
   "source": [
    "my_word = input(\"Enter any word:\")\n",
    "probs = get_probs(word_count)\n",
    "tmp_corrections = get_corrections(my_word, probs, v, 2)\n",
    "for i, word_prob in enumerate(tmp_corrections):\n",
    "    print(f\"word {i}: {word_prob[0]}, probability {word_prob[1]:.6f}\")"
   ]
  },
  {
   "cell_type": "code",
   "execution_count": null,
   "id": "9c03e495",
   "metadata": {},
   "outputs": [],
   "source": []
  }
 ],
 "metadata": {
  "kernelspec": {
   "display_name": "Python 3 (ipykernel)",
   "language": "python",
   "name": "python3"
  },
  "language_info": {
   "codemirror_mode": {
    "name": "ipython",
    "version": 3
   },
   "file_extension": ".py",
   "mimetype": "text/x-python",
   "name": "python",
   "nbconvert_exporter": "python",
   "pygments_lexer": "ipython3",
   "version": "3.9.12"
  }
 },
 "nbformat": 4,
 "nbformat_minor": 5
}
