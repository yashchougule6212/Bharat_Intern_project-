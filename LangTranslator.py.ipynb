{
 "cells": [
  {
   "cell_type": "code",
   "execution_count": 1,
   "id": "37cef550",
   "metadata": {},
   "outputs": [
    {
     "name": "stdout",
     "output_type": "stream",
     "text": [
      "Collecting translate\n",
      "  Downloading translate-3.6.1-py2.py3-none-any.whl (12 kB)\n",
      "Requirement already satisfied: requests in c:\\users\\yash chougule\\anaconda3\\lib\\site-packages (from translate) (2.27.1)\n",
      "Requirement already satisfied: lxml in c:\\users\\yash chougule\\anaconda3\\lib\\site-packages (from translate) (4.8.0)\n",
      "Collecting libretranslatepy==2.1.1\n",
      "  Downloading libretranslatepy-2.1.1-py3-none-any.whl (3.2 kB)\n",
      "Requirement already satisfied: click in c:\\users\\yash chougule\\anaconda3\\lib\\site-packages (from translate) (8.0.4)\n",
      "Requirement already satisfied: colorama in c:\\users\\yash chougule\\anaconda3\\lib\\site-packages (from click->translate) (0.4.4)\n",
      "Requirement already satisfied: urllib3<1.27,>=1.21.1 in c:\\users\\yash chougule\\anaconda3\\lib\\site-packages (from requests->translate) (1.26.9)\n",
      "Requirement already satisfied: idna<4,>=2.5 in c:\\users\\yash chougule\\anaconda3\\lib\\site-packages (from requests->translate) (3.3)\n",
      "Requirement already satisfied: charset-normalizer~=2.0.0 in c:\\users\\yash chougule\\anaconda3\\lib\\site-packages (from requests->translate) (2.0.4)\n",
      "Requirement already satisfied: certifi>=2017.4.17 in c:\\users\\yash chougule\\anaconda3\\lib\\site-packages (from requests->translate) (2021.10.8)\n",
      "Installing collected packages: libretranslatepy, translate\n",
      "Successfully installed libretranslatepy-2.1.1 translate-3.6.1\n",
      "Note: you may need to restart the kernel to use updated packages.\n"
     ]
    }
   ],
   "source": [
    "pip install translate"
   ]
  },
  {
   "cell_type": "code",
   "execution_count": 2,
   "id": "c68dc8c1",
   "metadata": {},
   "outputs": [],
   "source": [
    "from tkinter import *\n",
    "from translate import Translator"
   ]
  },
  {
   "cell_type": "code",
   "execution_count": 13,
   "id": "830f422e",
   "metadata": {},
   "outputs": [],
   "source": [
    "Screen = Tk()\n",
    "Screen.title(\"Language Translator by using Python\")\n",
    " \n",
    "InputLanguageChoice = StringVar()\n",
    "TranslateLanguageChoice = StringVar()"
   ]
  },
  {
   "cell_type": "code",
   "execution_count": 14,
   "id": "029a4a91",
   "metadata": {},
   "outputs": [],
   "source": [
    "LanguageChoices = {'Hindi','English','French','German','Spanish'}\n",
    "InputLanguageChoice.set('English')\n",
    "TranslateLanguageChoice.set('Hindi')"
   ]
  },
  {
   "cell_type": "code",
   "execution_count": 15,
   "id": "d9133eb6",
   "metadata": {},
   "outputs": [],
   "source": [
    "def Translate():\n",
    "    translator = Translator(from_lang= InputLanguageChoice.get(),to_lang=TranslateLanguageChoice.get())\n",
    "    Translation = translator.translate(TextVar.get())\n",
    "    OutputVar.set(Translation)"
   ]
  },
  {
   "cell_type": "code",
   "execution_count": 16,
   "id": "d2e1d056",
   "metadata": {},
   "outputs": [],
   "source": [
    "#choice for input language\n",
    "InputLanguageChoiceMenu = OptionMenu(Screen,InputLanguageChoice,*LanguageChoices)\n",
    "Label(Screen,text=\"Choose a Language\").grid(row=0,column=1)\n",
    "InputLanguageChoiceMenu.grid(row=1,column=1)\n",
    " \n",
    "#choice in which the language is to be translated\n",
    "NewLanguageChoiceMenu = OptionMenu(Screen,TranslateLanguageChoice,*LanguageChoices)\n",
    "Label(Screen,text=\"Translated Language\").grid(row=0,column=2)\n",
    "NewLanguageChoiceMenu.grid(row=1,column=2)"
   ]
  },
  {
   "cell_type": "code",
   "execution_count": null,
   "id": "6b112cb2",
   "metadata": {},
   "outputs": [],
   "source": [
    "Label(Screen,text=\"Enter Text\").grid(row=2,column =0)\n",
    "TextVar = StringVar()\n",
    "TextBox = Entry(Screen,textvariable=TextVar).grid(row=2,column = 1)\n",
    " \n",
    "Label(Screen,text=\"Output Text\").grid(row=2,column =2)\n",
    "OutputVar = StringVar()\n",
    "TextBox = Entry(Screen,textvariable=OutputVar).grid(row=2,column = 3)\n",
    " \n",
    "#Button for calling function\n",
    "B = Button(Screen,text=\"Translate\",command=Translate, relief = GROOVE).grid(row=3,column=1,columnspan = 3)\n",
    " \n",
    "mainloop()"
   ]
  },
  {
   "cell_type": "code",
   "execution_count": null,
   "id": "85350a91",
   "metadata": {},
   "outputs": [],
   "source": []
  },
  {
   "cell_type": "code",
   "execution_count": null,
   "id": "73428f8b",
   "metadata": {},
   "outputs": [],
   "source": []
  }
 ],
 "metadata": {
  "kernelspec": {
   "display_name": "Python 3 (ipykernel)",
   "language": "python",
   "name": "python3"
  },
  "language_info": {
   "codemirror_mode": {
    "name": "ipython",
    "version": 3
   },
   "file_extension": ".py",
   "mimetype": "text/x-python",
   "name": "python",
   "nbconvert_exporter": "python",
   "pygments_lexer": "ipython3",
   "version": "3.9.12"
  }
 },
 "nbformat": 4,
 "nbformat_minor": 5
}
